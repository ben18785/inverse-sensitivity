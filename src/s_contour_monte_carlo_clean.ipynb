{
 "cells": [
  {
   "cell_type": "code",
   "execution_count": 1,
   "metadata": {},
   "outputs": [
    {
     "name": "stdout",
     "output_type": "stream",
     "text": [
      "\n",
      "R version 3.4.2 (2017-09-28) -- \"Short Summer\"\n",
      "Copyright (C) 2017 The R Foundation for Statistical Computing\n",
      "Platform: x86_64-w64-mingw32/x64 (64-bit)\n",
      "\n",
      "R is free software and comes with ABSOLUTELY NO WARRANTY.\n",
      "You are welcome to redistribute it under certain conditions.\n",
      "Type 'license()' or 'licence()' for distribution details.\n",
      "\n",
      "R is a collaborative project with many contributors.\n",
      "Type 'contributors()' for more information and\n",
      "'citation()' on how to cite R or R packages in publications.\n",
      "\n",
      "Type 'demo()' for some demos, 'help()' for on-line help, or\n",
      "'help.start()' for an HTML browser interface to help.\n",
      "Type 'q()' to quit R.\n",
      "\n"
     ]
    },
    {
     "name": "stderr",
     "output_type": "stream",
     "text": [
      "┌ Warning: RCall.jl: Warning: package 'kdevine' was built under R version 3.4.4\n",
      "│ The kdevine package is no longer actively developed. Consider using \n",
      "│    - the 'kde1d' package for marginal estimation, \n",
      "│    - the functions vine() and vinecop() from the 'rvinecopulib' \n",
      "│      package as replacements for kdevine() and kdevincop().\n",
      "└ @ RCall C:\\Users\\bclamber\\.julia\\packages\\RCall\\ffM0W\\src\\io.jl:113\n"
     ]
    },
    {
     "data": {
      "text/plain": [
       "dkdevine (generic function with 1 method)"
      ]
     },
     "execution_count": 1,
     "metadata": {},
     "output_type": "execute_result"
    }
   ],
   "source": [
    "using RCall, Compat, Random, Distributions, Plots, DifferentialEquations\n",
    "\n",
    "R\"library(kdevine)\"\n",
    "\n",
    "function deriv_michaelis_menten(dydt, y, p, t)\n",
    "    k_f = p[1]\n",
    "    k_r = p[2]\n",
    "    k_cat = p[3]\n",
    "    dydt[1] = -k_f * y[1] * y[2] + k_r * y[3] + k_cat * y[3]\n",
    "    dydt[2] = -k_f * y[1] * y[2] + k_r * y[3]\n",
    "    dydt[3] = k_f * y[1] * y[2] - k_r * y[3] - k_cat * y[3]\n",
    "    dydt[4] = k_cat * y[3]\n",
    "end\n",
    "\n",
    "function solve_michaelis_menten(initial, tspan, parameters)\n",
    "    prob = ODEProblem(deriv_michaelis_menten, initial, tspan, parameters)\n",
    "    sol = solve(prob)\n",
    "    return sol\n",
    "end\n",
    "\n",
    "function f_solve(f_deriv, initial, tspan, parameters)\n",
    "    prob = ODEProblem(f_deriv, initial, tspan, parameters)\n",
    "    sol = solve(prob)\n",
    "    return sol\n",
    "end\n",
    "\n",
    "function f_sample_solve_uniform(num_samples, population_sample, times_solve, tspan, f_solve, f_deriv, bounds, initial)\n",
    "    n_params = size(bounds)[1]\n",
    "    samples = zeros((num_samples, n_params))\n",
    "    for i = 1:n_params\n",
    "        samples[:, i] = rand(Uniform(bounds[i, 1], bounds[i, 2]), num_samples)\n",
    "    end\n",
    "    mOutputs = zeros((num_samples, length(population_sample)))\n",
    "    for i in 1:num_samples\n",
    "        sol = f_solve(f_deriv, initial, tspan, samples[i, :]);\n",
    "        for j = 1:length(population_sample)\n",
    "           mOutputs[i, j] = sol(times_solve[j], idxs=population_sample[j])\n",
    "        end\n",
    "    end\n",
    "    return mOutputs\n",
    "end\n",
    "\n",
    "function f_estimate_kdevine(mOutputs)\n",
    "    @rput mOutputs\n",
    "    R\"fit <- kdevine(mOutputs)\"\n",
    "end\n",
    "\n",
    "function dkdevine(params)\n",
    "    @rput params\n",
    "    R\"z <- dkdevine(params, fit)\"\n",
    "    @rget z\n",
    "    return z\n",
    "end"
   ]
  },
  {
   "cell_type": "code",
   "execution_count": 8,
   "metadata": {},
   "outputs": [
    {
     "name": "stdout",
     "output_type": "stream",
     "text": [
      "  2.637255 seconds (12.82 M allocations: 1.094 GiB, 7.30% gc time)\n",
      " 10.148413 seconds (81 allocations: 2.375 KiB)\n",
      "  0.005798 seconds (97 allocations: 3.031 KiB)\n"
     ]
    },
    {
     "data": {
      "text/plain": [
       "0.028220048158615348"
      ]
     },
     "execution_count": 8,
     "metadata": {},
     "output_type": "execute_result"
    }
   ],
   "source": [
    "mBounds = [[0.2 15]; [0.2 2]; [0.5 3]];\n",
    "\n",
    "tspan = (0.0, 10.0)\n",
    "\n",
    "mOutputs = @time f_sample_solve_uniform(10000, [2, 1], [1, 2], tspan, f_solve, deriv_michaelis_menten, mBounds, [4.0; 8.0; 0.0; 0.0]);\n",
    "\n",
    "@time f_estimate_kdevine(mOutputs)\n",
    "@time dkdevine([2, 3])"
   ]
  },
  {
   "cell_type": "code",
   "execution_count": null,
   "metadata": {
    "collapsed": true
   },
   "outputs": [],
   "source": []
  }
 ],
 "metadata": {
  "kernelspec": {
   "display_name": "Julia 1.1.0",
   "language": "julia",
   "name": "julia-1.1"
  },
  "language_info": {
   "file_extension": ".jl",
   "mimetype": "application/julia",
   "name": "julia",
   "version": "1.1.0"
  }
 },
 "nbformat": 4,
 "nbformat_minor": 2
}
