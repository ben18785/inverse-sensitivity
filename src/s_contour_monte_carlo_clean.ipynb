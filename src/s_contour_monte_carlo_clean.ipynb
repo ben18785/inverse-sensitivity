{
 "cells": [
  {
   "cell_type": "markdown",
   "metadata": {},
   "source": [
    "# Contour Monte Carlo\n",
    "This Julia notebook demonstrates how to perform Contour Monte Carlo to invert the Michaelis-Menten equation. Note that the code uses the `RCall` Julia package to call R, in order to use the vine copula kernel density estimation available in the R package `kdevine`."
   ]
  },
  {
   "cell_type": "code",
   "execution_count": null,
   "metadata": {},
   "outputs": [
    {
     "name": "stdout",
     "output_type": "stream",
     "text": [
      "\n",
      "R version 3.4.2 (2017-09-28) -- \"Short Summer\"\n",
      "Copyright (C) 2017 The R Foundation for Statistical Computing\n",
      "Platform: x86_64-w64-mingw32/x64 (64-bit)\n",
      "\n",
      "R is free software and comes with ABSOLUTELY NO WARRANTY.\n",
      "You are welcome to redistribute it under certain conditions.\n",
      "Type 'license()' or 'licence()' for distribution details.\n",
      "\n",
      "R is a collaborative project with many contributors.\n",
      "Type 'contributors()' for more information and\n",
      "'citation()' on how to cite R or R packages in publications.\n",
      "\n",
      "Type 'demo()' for some demos, 'help()' for on-line help, or\n",
      "'help.start()' for an HTML browser interface to help.\n",
      "Type 'q()' to quit R.\n",
      "\n"
     ]
    },
    {
     "name": "stderr",
     "output_type": "stream",
     "text": [
      "┌ Warning: RCall.jl: Warning: package 'kdevine' was built under R version 3.4.4\n",
      "│ The kdevine package is no longer actively developed. Consider using \n",
      "│    - the 'kde1d' package for marginal estimation, \n",
      "│    - the functions vine() and vinecop() from the 'rvinecopulib' \n",
      "│      package as replacements for kdevine() and kdevincop().\n",
      "└ @ RCall C:\\Users\\bclamber\\.julia\\packages\\RCall\\ffM0W\\src\\io.jl:113\n"
     ]
    },
    {
     "data": {
      "text/plain": [
       "f_mcmc_uniform (generic function with 1 method)"
      ]
     },
     "execution_count": 1,
     "metadata": {},
     "output_type": "execute_result"
    }
   ],
   "source": [
    "using RCall, Compat, Random, Distributions, Plots, DifferentialEquations\n",
    "\n",
    "R\"library(kdevine)\"\n",
    "\n",
    "function f_solve(f_deriv, initial, tspan, parameters)\n",
    "    prob = ODEProblem(f_deriv, initial, tspan, parameters)\n",
    "    sol = solve(prob)\n",
    "    return sol\n",
    "end\n",
    "\n",
    "function f_sample_solve_uniform(num_samples, population_sample, times_solve, tspan, f_solve, f_deriv, bounds, initial)\n",
    "    n_params = size(bounds)[1]\n",
    "    samples = zeros((num_samples, n_params))\n",
    "    for i = 1:n_params\n",
    "        samples[:, i] = rand(Uniform(bounds[i, 1], bounds[i, 2]), num_samples)\n",
    "    end\n",
    "    mOutputs = zeros((num_samples, length(population_sample)))\n",
    "    for i in 1:num_samples\n",
    "        sol = f_solve(f_deriv, initial, tspan, samples[i, :]);\n",
    "        for j = 1:length(population_sample)\n",
    "           mOutputs[i, j] = sol(times_solve[j], idxs=population_sample[j])\n",
    "        end\n",
    "    end\n",
    "    return mOutputs\n",
    "end\n",
    "\n",
    "function f_estimate_kdevine(mOutputs)\n",
    "    @rput mOutputs\n",
    "    R\"fit <- kdevine(mOutputs)\"\n",
    "end\n",
    "\n",
    "function dkdevine(params)\n",
    "    @rput params\n",
    "    R\"z <- dkdevine(params, fit)\"\n",
    "    @rget z\n",
    "    return z\n",
    "end\n",
    "\n",
    "function f_step_bounds(vCurrent, bounds, sigma)\n",
    "    vProposed = zeros(size(bounds)[1])\n",
    "    for i = 1:length(vProposed)\n",
    "        temp = (rand(Normal(vCurrent[i] - bounds[i, 1], sigma[i]), 1)[1] % (bounds[i, 2] - bounds[i, 1]))\n",
    "        if temp < 0\n",
    "            temp += bounds[i, 2]\n",
    "        else\n",
    "            temp += bounds[i, 1]\n",
    "        end\n",
    "        vProposed[i] = temp\n",
    "    end\n",
    "    return vProposed\n",
    "end\n",
    "\n",
    "function f_mcmc_uniform(num_samples, dist_target, f_dkdevine, sigma, population_sample, times_solve, tspan, f_solve, f_deriv, bounds, initial)\n",
    "    mInputs = zeros((num_samples, size(bounds)[1]))\n",
    "    mOutputs = zeros((num_samples, length(population_sample)))\n",
    "    vOutputs_temp = zeros(length(population_sample))\n",
    "    # initial points\n",
    "    mInputs[1, :] = f_step_bounds(mean(bounds, dims=2), bounds, sigma)\n",
    "    for j = 1:length(population_sample)\n",
    "        sol = f_solve(f_deriv, initial, tspan, mInputs[1, :]);\n",
    "        mOutputs[1, j] = sol(times_solve[j], idxs=population_sample[j])\n",
    "    end\n",
    "    log_pdf_current = logpdf(dist_target, mOutputs[1, :])\n",
    "    log_contour_current = log(f_dkdevine(mOutputs[1, :]))\n",
    "    # MCMC\n",
    "    for i = 2:num_samples\n",
    "        vProposed = f_step_bounds(mInputs[i - 1, :], bounds, sigma)\n",
    "        sol = f_solve(f_deriv, initial, tspan, vProposed);\n",
    "        for j = 1:length(population_sample)\n",
    "            vOutputs_temp[j] = sol(times_solve[j], idxs=population_sample[j]);\n",
    "        end\n",
    "        log_pdf_proposed = logpdf(dist_target, vOutputs_temp)\n",
    "        log_contour_proposed = log(f_dkdevine(vOutputs_temp))\n",
    "        log_r = ((log_pdf_proposed + log_contour_current) -\n",
    "                 (log_pdf_current + log_contour_proposed))\n",
    "        if log_r > log(rand(Uniform(), 1)[1])\n",
    "            mInputs[i, :] = vProposed\n",
    "            mOutputs[i, :] = vOutputs_temp\n",
    "            log_pdf_current = log_pdf_proposed\n",
    "            log_contour_current = log_contour_proposed\n",
    "        else\n",
    "            mInputs[i, :] = mInputs[i - 1, :]\n",
    "            mOutputs[i, :] = mOutputs[i - 1, :]\n",
    "        end\n",
    "    end\n",
    "    return Dict(\"inputs\" => mInputs, \"outputs\" => mOutputs)\n",
    "end"
   ]
  },
  {
   "cell_type": "markdown",
   "metadata": {},
   "source": [
    "## Michaelis-Menten kinetics"
   ]
  },
  {
   "cell_type": "markdown",
   "metadata": {},
   "source": [
    "First estimate volume of contours."
   ]
  },
  {
   "cell_type": "code",
   "execution_count": null,
   "metadata": {},
   "outputs": [],
   "source": [
    "function deriv_michaelis_menten(dydt, y, p, t)\n",
    "    k_f = p[1]\n",
    "    k_r = p[2]\n",
    "    k_cat = p[3]\n",
    "    dydt[1] = -k_f * y[1] * y[2] + k_r * y[3] + k_cat * y[3]\n",
    "    dydt[2] = -k_f * y[1] * y[2] + k_r * y[3]\n",
    "    dydt[3] = k_f * y[1] * y[2] - k_r * y[3] - k_cat * y[3]\n",
    "    dydt[4] = k_cat * y[3]\n",
    "end\n",
    "\n",
    "mBounds = [[0.2 15]; [0.2 2]; [0.5 3]];\n",
    "\n",
    "tspan = (0.0, 10.0)\n",
    "initial = [4.0; 8.0; 0.0; 0.0];\n",
    "\n",
    "mOutputs = @time f_sample_solve_uniform(10000, [2, 1], [1, 2], tspan, f_solve, deriv_michaelis_menten, mBounds, initial);\n",
    "\n",
    "@time f_estimate_kdevine(mOutputs)\n",
    "@time dkdevine([2, 3])"
   ]
  },
  {
   "cell_type": "markdown",
   "metadata": {},
   "source": [
    "Now do MCMC."
   ]
  },
  {
   "cell_type": "code",
   "execution_count": null,
   "metadata": {},
   "outputs": [],
   "source": [
    "d = MvNormal([2.8, 1.0], [[0.02 -0.01]; [-0.01 0.02]]);\n",
    "temp = @time f_mcmc_uniform(5000, d, dkdevine, [1, 0.1, 0.1], [2, 1], [1, 2], tspan, f_solve, deriv_michaelis_menten, mBounds, initial)"
   ]
  },
  {
   "cell_type": "markdown",
   "metadata": {},
   "source": [
    "Plot the input distribution."
   ]
  },
  {
   "cell_type": "code",
   "execution_count": null,
   "metadata": {},
   "outputs": [],
   "source": [
    "plot(temp[\"inputs\"])"
   ]
  }
 ],
 "metadata": {
  "kernelspec": {
   "display_name": "Julia 1.1.0",
   "language": "julia",
   "name": "julia-1.1"
  },
  "language_info": {
   "file_extension": ".jl",
   "mimetype": "application/julia",
   "name": "julia",
   "version": "1.1.0"
  }
 },
 "nbformat": 4,
 "nbformat_minor": 2
}
