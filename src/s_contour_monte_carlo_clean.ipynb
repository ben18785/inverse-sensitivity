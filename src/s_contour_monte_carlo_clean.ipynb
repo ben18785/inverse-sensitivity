{
 "cells": [
  {
   "cell_type": "code",
   "execution_count": 9,
   "metadata": {},
   "outputs": [
    {
     "name": "stderr",
     "output_type": "stream",
     "text": [
      "┌ Warning: RCall.jl: Warning: package 'kdevine' was built under R version 3.4.4\n",
      "│ The kdevine package is no longer actively developed. Consider using \n",
      "│    - the 'kde1d' package for marginal estimation, \n",
      "│    - the functions vine() and vinecop() from the 'rvinecopulib' \n",
      "│      package as replacements for kdevine() and kdevincop().\n",
      "└ @ RCall C:\\Users\\bclamber\\.julia\\packages\\RCall\\ffM0W\\src\\io.jl:113\n"
     ]
    },
    {
     "data": {
      "text/plain": [
       "f_sample_solve_uniform (generic function with 1 method)"
      ]
     },
     "execution_count": 9,
     "metadata": {},
     "output_type": "execute_result"
    }
   ],
   "source": [
    "using RCall, Compat, Random, Distributions, Plots, DifferentialEquations\n",
    "\n",
    "R\"library(kdevine)\"\n",
    "\n",
    "function deriv_michaelis_menten(dydt, y, p, t)\n",
    "    k_f = p[1]\n",
    "    k_r = p[2]\n",
    "    k_cat = p[3]\n",
    "    dydt[1] = -k_f * y[1] * y[2] + k_r * y[3] + k_cat * y[3]\n",
    "    dydt[2] = -k_f * y[1] * y[2] + k_r * y[3]\n",
    "    dydt[3] = k_f * y[1] * y[2] - k_r * y[3] - k_cat * y[3]\n",
    "    dydt[4] = k_cat * y[3]\n",
    "end\n",
    "\n",
    "function solve_michaelis_menten(initial, tspan, parameters)\n",
    "    prob = ODEProblem(deriv_michaelis_menten, initial, tspan, parameters)\n",
    "    sol = solve(prob)\n",
    "    return sol\n",
    "end\n",
    "\n",
    "function f_sample_solve_uniform(num_samples, bounds, initial, population_sample, tspan, f_solve_function, times_solve)\n",
    "    n_params = size(bounds)[1]\n",
    "    samples = zeros((num_samples, n_params))\n",
    "    for i = 1:n_params\n",
    "        samples[:, i] = rand(Uniform(bounds[i, 1], bounds[i, 2]), num_samples)\n",
    "    end\n",
    "    mOutputs = zeros((num_samples, length(population_sample)))\n",
    "    for i in 1:num_samples\n",
    "        sol = f_solve_function(initial, tspan, samples[i, :]);\n",
    "        for j = 1:length(population_sample)\n",
    "           mOutputs[i, j] = sol(times_solve[j], idxs=population_sample[j])\n",
    "        end\n",
    "    end\n",
    "    return mOutputs\n",
    "end\n",
    "\n",
    "function f_estimate_kdevine(mOutputs)\n",
    "    R\"fit <- kdevine(mOutputs)\"\n",
    "end\n",
    "\n",
    "function dkdevine(params)\n",
    "    @rput params\n",
    "    R\"z <- dkdevine(params, fit)\"\n",
    "    @rget z\n",
    "    return z\n",
    "end"
   ]
  },
  {
   "cell_type": "code",
   "execution_count": 31,
   "metadata": {},
   "outputs": [
    {
     "name": "stdout",
     "output_type": "stream",
     "text": [
      "  4.025447 seconds (14.97 M allocations: 1.192 GiB, 7.45% gc time)\n"
     ]
    }
   ],
   "source": [
    "mBounds = [[0.2 15]; [0.2 2]; [0.5 3]];\n",
    "\n",
    "tspan = (0.0, 10.0)\n",
    "\n",
    "mOutputs = @time f_sample_solve_uniform(10000, mBounds, [4.0; 8.0; 0.0; 0.0], [2, 1], tspan, solve_michaelis_menten, [1, 2]);"
   ]
  },
  {
   "cell_type": "code",
   "execution_count": 26,
   "metadata": {},
   "outputs": [
    {
     "data": {
      "text/plain": [
       "dkdevine (generic function with 1 method)"
      ]
     },
     "execution_count": 26,
     "metadata": {},
     "output_type": "execute_result"
    }
   ],
   "source": []
  },
  {
   "cell_type": "code",
   "execution_count": 30,
   "metadata": {},
   "outputs": [
    {
     "data": {
      "text/plain": [
       "0.029405091084365773"
      ]
     },
     "execution_count": 30,
     "metadata": {},
     "output_type": "execute_result"
    }
   ],
   "source": [
    "f_estimate_kdevine()\n",
    "dkdevine([2, 3])"
   ]
  }
 ],
 "metadata": {
  "kernelspec": {
   "display_name": "Julia 1.1.0",
   "language": "julia",
   "name": "julia-1.1"
  },
  "language_info": {
   "file_extension": ".jl",
   "mimetype": "application/julia",
   "name": "julia",
   "version": "1.1.0"
  }
 },
 "nbformat": 4,
 "nbformat_minor": 2
}
