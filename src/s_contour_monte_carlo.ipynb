{
 "cells": [
  {
   "cell_type": "code",
   "execution_count": 1,
   "metadata": {},
   "outputs": [
    {
     "name": "stderr",
     "output_type": "stream",
     "text": [
      "┌ Info: Recompiling stale cache file /Users/appleuser/.julia/compiled/v1.0/RCall/8GFyb.ji for RCall [6f49c342-dc21-5d91-9882-a32aef131414]\n",
      "└ @ Base loading.jl:1187\n"
     ]
    }
   ],
   "source": [
    "using RCall"
   ]
  },
  {
   "cell_type": "code",
   "execution_count": 2,
   "metadata": {},
   "outputs": [
    {
     "ename": "RCall.REvalError",
     "evalue": "REvalError: Error: package or namespace load failed for ‘ggplot2’:\n package ‘lazyeval’ was installed by an R version with different internals; it needs to be reinstalled for use with this R version",
     "output_type": "error",
     "traceback": [
      "REvalError: Error: package or namespace load failed for ‘ggplot2’:\n package ‘lazyeval’ was installed by an R version with different internals; it needs to be reinstalled for use with this R version",
      "",
      "Stacktrace:",
      " [1] macro expansion at ./logging.jl:307 [inlined]",
      " [2] #handle_eval_stderr#41(::Bool, ::Function) at /Users/appleuser/.julia/packages/RCall/ffM0W/src/io.jl:113",
      " [3] #handle_eval_stderr at ./none:0 [inlined]",
      " [4] reval_p(::Ptr{LangSxp}, ::Ptr{EnvSxp}) at /Users/appleuser/.julia/packages/RCall/ffM0W/src/eval.jl:99",
      " [5] reval_p(::Ptr{RCall.ExprSxp}, ::Ptr{EnvSxp}) at /Users/appleuser/.julia/packages/RCall/ffM0W/src/eval.jl:115",
      " [6] reval(::String, ::RObject{EnvSxp}) at /Users/appleuser/.julia/packages/RCall/ffM0W/src/eval.jl:132",
      " [7] top-level scope at /Users/appleuser/.julia/packages/RCall/ffM0W/src/macros.jl:71",
      " [8] top-level scope at In[2]:1"
     ]
    }
   ],
   "source": [
    "R\"library(ggplot2)\""
   ]
  },
  {
   "cell_type": "code",
   "execution_count": 51,
   "metadata": {},
   "outputs": [
    {
     "name": "stdout",
     "output_type": "stream",
     "text": [
      "\u001b[32m\u001b[1m  Building\u001b[22m\u001b[39m CodecZlib → `~/.julia/packages/CodecZlib/9jDi1/deps/build.log`\n",
      "\u001b[32m\u001b[1m  Building\u001b[22m\u001b[39m Conda ────→ `~/.julia/packages/Conda/CpuvI/deps/build.log`\n",
      "\u001b[32m\u001b[1m  Building\u001b[22m\u001b[39m RCall ────→ `~/.julia/packages/RCall/ffM0W/deps/build.log`\n"
     ]
    }
   ],
   "source": [
    "Pkg.build(\"RCall\")"
   ]
  },
  {
   "cell_type": "code",
   "execution_count": 15,
   "metadata": {},
   "outputs": [
    {
     "ename": "LoadError",
     "evalue": "UndefVarError: @R_str not defined",
     "output_type": "error",
     "traceback": [
      "UndefVarError: @R_str not defined",
      ""
     ]
    }
   ],
   "source": [
    "R\"rnorm(10)\""
   ]
  },
  {
   "cell_type": "code",
   "execution_count": 50,
   "metadata": {},
   "outputs": [
    {
     "data": {
      "text/plain": [
       "\"/Library/Frameworks/R.framework/Resources/\""
      ]
     },
     "execution_count": 50,
     "metadata": {},
     "output_type": "execute_result"
    }
   ],
   "source": [
    "# import Pkg; Pkg.add(\"RCall\")\n",
    "ENV[\"R_HOME\"]=\"\"\n",
    "ENV[\"R_HOME\"]=\"/Library/Frameworks/R.framework/Resources/\""
   ]
  },
  {
   "cell_type": "code",
   "execution_count": 19,
   "metadata": {},
   "outputs": [
    {
     "data": {
      "text/plain": [
       "\"*\""
      ]
     },
     "execution_count": 19,
     "metadata": {},
     "output_type": "execute_result"
    }
   ],
   "source": [
    "ENV[\"R_HOME\"] = \"*\""
   ]
  },
  {
   "cell_type": "code",
   "execution_count": 32,
   "metadata": {},
   "outputs": [
    {
     "ename": "RCall.REvalError",
     "evalue": "REvalError: Error in loadNamespace(name) : there is no package called ‘ggplot2’\nCalls: asNamespace ... tryCatch -> tryCatchList -> tryCatchOne -> <Anonymous>",
     "output_type": "error",
     "traceback": [
      "REvalError: Error in loadNamespace(name) : there is no package called ‘ggplot2’\nCalls: asNamespace ... tryCatch -> tryCatchList -> tryCatchOne -> <Anonymous>",
      "",
      "Stacktrace:",
      " [1] macro expansion at ./logging.jl:307 [inlined]",
      " [2] #handle_eval_stderr#41(::Bool, ::Function) at /Users/appleuser/.julia/packages/RCall/ffM0W/src/io.jl:113",
      " [3] #handle_eval_stderr at ./none:0 [inlined]",
      " [4] reval_p(::Ptr{LangSxp}, ::Ptr{EnvSxp}) at /Users/appleuser/.julia/packages/RCall/ffM0W/src/eval.jl:99",
      " [5] reval_p at /Users/appleuser/.julia/packages/RCall/ffM0W/src/eval.jl:95 [inlined]",
      " [6] #rcall_p#36 at /Users/appleuser/.julia/packages/RCall/ffM0W/src/language.jl:30 [inlined]",
      " [7] rcall_p at /Users/appleuser/.julia/packages/RCall/ffM0W/src/language.jl:30 [inlined]",
      " [8] #rcall#37(::Base.Iterators.Pairs{Union{},Union{},Tuple{},NamedTuple{(),Tuple{}}}, ::Function, ::Symbol, ::String) at /Users/appleuser/.julia/packages/RCall/ffM0W/src/language.jl:37",
      " [9] rcall at /Users/appleuser/.julia/packages/RCall/ffM0W/src/language.jl:37 [inlined]",
      " [10] #rimport#43(::Bool, ::Function, ::String, ::Symbol) at /Users/appleuser/.julia/packages/RCall/ffM0W/src/namespaces.jl:25",
      " [11] rimport at /Users/appleuser/.julia/packages/RCall/ffM0W/src/namespaces.jl:22 [inlined]",
      " [12] rimport(::Symbol) at /Users/appleuser/.julia/packages/RCall/ffM0W/src/namespaces.jl:46",
      " [13] top-level scope at /Users/appleuser/.julia/packages/RCall/ffM0W/src/namespaces.jl:95",
      " [14] top-level scope at In[32]:1"
     ]
    }
   ],
   "source": [
    "@rlibrary ggplot2"
   ]
  },
  {
   "cell_type": "code",
   "execution_count": 30,
   "metadata": {},
   "outputs": [
    {
     "data": {
      "text/plain": [
       "\"/Users/appleuser/.julia/conda/3/lib/R\""
      ]
     },
     "execution_count": 30,
     "metadata": {},
     "output_type": "execute_result"
    }
   ],
   "source": [
    "ENV[\"R_HOME\"]"
   ]
  },
  {
   "cell_type": "code",
   "execution_count": null,
   "metadata": {
    "collapsed": true
   },
   "outputs": [],
   "source": []
  }
 ],
 "metadata": {
  "kernelspec": {
   "display_name": "Julia 1.0.1",
   "language": "julia",
   "name": "julia-1.0"
  },
  "language_info": {
   "file_extension": ".jl",
   "mimetype": "application/julia",
   "name": "julia",
   "version": "1.0.1"
  }
 },
 "nbformat": 4,
 "nbformat_minor": 2
}
