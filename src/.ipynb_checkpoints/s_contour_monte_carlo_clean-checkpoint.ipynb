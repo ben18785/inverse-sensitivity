{
 "cells": [
  {
   "cell_type": "code",
   "execution_count": 5,
   "metadata": {},
   "outputs": [
    {
     "data": {
      "text/plain": [
       "dkdevine (generic function with 1 method)"
      ]
     },
     "execution_count": 5,
     "metadata": {},
     "output_type": "execute_result"
    }
   ],
   "source": [
    "using RCall, Compat, Random, Distributions, Plots, DifferentialEquations\n",
    "\n",
    "R\"library(kdevine)\"\n",
    "\n",
    "function deriv_michaelis_menten(dydt, y, p, t)\n",
    "    k_f = p[1]\n",
    "    k_r = p[2]\n",
    "    k_cat = p[3]\n",
    "    dydt[1] = -k_f * y[1] * y[2] + k_r * y[3] + k_cat * y[3]\n",
    "    dydt[2] = -k_f * y[1] * y[2] + k_r * y[3]\n",
    "    dydt[3] = k_f * y[1] * y[2] - k_r * y[3] - k_cat * y[3]\n",
    "    dydt[4] = k_cat * y[3]\n",
    "end\n",
    "\n",
    "function solve_michaelis_menten(initial, tspan, parameters)\n",
    "    prob = ODEProblem(deriv_michaelis_menten, initial, tspan, parameters)\n",
    "    sol = solve(prob)\n",
    "    return sol\n",
    "end\n",
    "\n",
    "function f_solve(f_deriv, initial, tspan, parameters)\n",
    "    prob = ODEProblem(f_deriv, initial, tspan, parameters)\n",
    "    sol = solve(prob)\n",
    "    return sol\n",
    "end\n",
    "\n",
    "function f_sample_solve_uniform(num_samples, population_sample, times_solve, tspan, f_solve, f_deriv, bounds, initial)\n",
    "    n_params = size(bounds)[1]\n",
    "    samples = zeros((num_samples, n_params))\n",
    "    for i = 1:n_params\n",
    "        samples[:, i] = rand(Uniform(bounds[i, 1], bounds[i, 2]), num_samples)\n",
    "    end\n",
    "    mOutputs = zeros((num_samples, length(population_sample)))\n",
    "    for i in 1:num_samples\n",
    "        sol = f_solve(f_deriv, initial, tspan, samples[i, :]);\n",
    "        for j = 1:length(population_sample)\n",
    "           mOutputs[i, j] = sol(times_solve[j], idxs=population_sample[j])\n",
    "        end\n",
    "    end\n",
    "    return mOutputs\n",
    "end\n",
    "\n",
    "function f_estimate_kdevine(mOutputs)\n",
    "    @rput mOutputs\n",
    "    R\"fit <- kdevine(mOutputs)\"\n",
    "end\n",
    "\n",
    "function dkdevine(params)\n",
    "    @rput params\n",
    "    R\"z <- dkdevine(params, fit)\"\n",
    "    @rget z\n",
    "    return z\n",
    "end"
   ]
  },
  {
   "cell_type": "code",
   "execution_count": 8,
   "metadata": {},
   "outputs": [
    {
     "name": "stdout",
     "output_type": "stream",
     "text": [
      "  2.637255 seconds (12.82 M allocations: 1.094 GiB, 7.30% gc time)\n",
      " 10.148413 seconds (81 allocations: 2.375 KiB)\n",
      "  0.005798 seconds (97 allocations: 3.031 KiB)\n"
     ]
    },
    {
     "data": {
      "text/plain": [
       "0.028220048158615348"
      ]
     },
     "execution_count": 8,
     "metadata": {},
     "output_type": "execute_result"
    }
   ],
   "source": [
    "mBounds = [[0.2 15]; [0.2 2]; [0.5 3]];\n",
    "\n",
    "tspan = (0.0, 10.0)\n",
    "\n",
    "mOutputs = @time f_sample_solve_uniform(10000, [2, 1], [1, 2], tspan, f_solve, deriv_michaelis_menten, mBounds, [4.0; 8.0; 0.0; 0.0]);\n",
    "\n",
    "@time f_estimate_kdevine(mOutputs)\n",
    "@time dkdevine([2, 3])"
   ]
  },
  {
   "cell_type": "code",
   "execution_count": null,
   "metadata": {
    "collapsed": true
   },
   "outputs": [],
   "source": []
  }
 ],
 "metadata": {
  "kernelspec": {
   "display_name": "Julia 1.1.0",
   "language": "julia",
   "name": "julia-1.1"
  },
  "language_info": {
   "file_extension": ".jl",
   "mimetype": "application/julia",
   "name": "julia",
   "version": "1.1.0"
  }
 },
 "nbformat": 4,
 "nbformat_minor": 2
}
